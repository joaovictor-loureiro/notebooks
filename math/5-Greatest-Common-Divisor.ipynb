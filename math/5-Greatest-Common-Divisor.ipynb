{
 "cells": [
  {
   "cell_type": "code",
   "execution_count": 14,
   "metadata": {},
   "outputs": [],
   "source": [
    "# Libraries\n",
    "from IPython.display import clear_output, display, Math"
   ]
  },
  {
   "cell_type": "code",
   "execution_count": 15,
   "metadata": {},
   "outputs": [],
   "source": [
    "# Functions\n",
    "def data_input():\n",
    "    try:\n",
    "        process = True\n",
    "        while process:\n",
    "            \n",
    "            first_number  = input('Enter the first integer number: ').strip()\n",
    "            second_number = input('Enter the second integer number: ').strip()         \n",
    "            \n",
    "            try:             \n",
    "                if (first_number== 0) or (second_number == 0):\n",
    "                    print('The number cannot be zero. Please, try again.')\n",
    "                else:                \n",
    "                    process = False\n",
    "            except:\n",
    "                print('Invalid number format. Please, try again.')                    \n",
    "                                \n",
    "        return first_number, second_number\n",
    "    \n",
    "    except Exception as e:\n",
    "        return e, e\n",
    "    \n",
    "\n",
    "def gcd(first_number: int, second_number: int):\n",
    "    try:\n",
    "        common_number = []        \n",
    "        n_max = max(first_number, second_number)\n",
    "        \n",
    "        for n in range(1, n_max):\n",
    "            if (first_number % n == 0) and (second_number % n == 0):\n",
    "                first_number //= n\n",
    "                second_number //= n\n",
    "                common_number.append(n)\n",
    "                \n",
    "        result = 1\n",
    "        \n",
    "        print(common_number)\n",
    "        for n in common_number:\n",
    "            result *= n   \n",
    "\n",
    "        return result\n",
    "    \n",
    "    except Exception as e:\n",
    "        return e, e"
   ]
  },
  {
   "cell_type": "code",
   "execution_count": 18,
   "metadata": {},
   "outputs": [
    {
     "name": "stdout",
     "output_type": "stream",
     "text": [
      "(TypeError(\"'str' object cannot be interpreted as an integer\"), TypeError(\"'str' object cannot be interpreted as an integer\"))\n"
     ]
    }
   ],
   "source": [
    "# Calling the functions and printing the result\n",
    "first_number, second_number = data_input()\n",
    "\n",
    "result = gcd(first_number, second_number)\n",
    "\n",
    "if type(result) == int:\n",
    "    print(f'The Greatest Common Divisor between {first_number} and {second_number} is {result}.')\n",
    "else:\n",
    "    print(result)"
   ]
  }
 ],
 "metadata": {
  "interpreter": {
   "hash": "31f2aee4e71d21fbe5cf8b01ff0e069b9275f58929596ceb00d14d90e3e16cd6"
  },
  "kernelspec": {
   "display_name": "Python 3.8.10 64-bit",
   "language": "python",
   "name": "python3"
  },
  "language_info": {
   "codemirror_mode": {
    "name": "ipython",
    "version": 3
   },
   "file_extension": ".py",
   "mimetype": "text/x-python",
   "name": "python",
   "nbconvert_exporter": "python",
   "pygments_lexer": "ipython3",
   "version": "3.8.10"
  },
  "orig_nbformat": 4
 },
 "nbformat": 4,
 "nbformat_minor": 2
}
