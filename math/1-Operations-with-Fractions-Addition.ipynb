{
 "cells": [
  {
   "cell_type": "code",
   "execution_count": 9,
   "metadata": {},
   "outputs": [],
   "source": [
    "# Libraries\n",
    "from IPython.display import clear_output, display, Math"
   ]
  },
  {
   "cell_type": "code",
   "execution_count": 10,
   "metadata": {},
   "outputs": [],
   "source": [
    "# Functions\n",
    "def data_input():\n",
    "    try:\n",
    "        process = True\n",
    "        while process:\n",
    "            \n",
    "            first_fraction  = input('Enter the first fraction (numerator, denominator): ').split(',')\n",
    "            second_fraction = input('Enter the second fraction (numerator, denominator): ').split(',')            \n",
    "            \n",
    "            try:\n",
    "                first_fraction  = {'numerator':  int(first_fraction[0]), 'denominator':  int(first_fraction[1])}\n",
    "                second_fraction = {'numerator': int(second_fraction[0]), 'denominator': int(second_fraction[1])}\n",
    "                process = False\n",
    "            except:\n",
    "                print('Invalid number format. Please, try again.')                    \n",
    "                                \n",
    "        return first_fraction, second_fraction\n",
    "    \n",
    "    except Exception as e:\n",
    "        return e, e\n",
    "    \n",
    "\n",
    "def sum(first_fraction: dict, second_fraction: dict):\n",
    "    try:\n",
    "        result = {}\n",
    "        result['numerator'] = (first_fraction['numerator']   * second_fraction['denominator']) + \\\n",
    "                           (first_fraction['denominator'] * first_fraction['numerator'])\n",
    "                           \n",
    "        result['denominator'] = first_fraction['denominator'] * second_fraction['denominator']\n",
    "        \n",
    "        return result\n",
    "    \n",
    "    except Exception as e:\n",
    "        return e, e"
   ]
  },
  {
   "cell_type": "code",
   "execution_count": 44,
   "metadata": {},
   "outputs": [
    {
     "data": {
      "text/latex": [
       "$\\displaystyle \\frac{1}{2}+\\frac{1}{3}=\\frac{5}{6}$"
      ],
      "text/plain": [
       "<IPython.core.display.Math object>"
      ]
     },
     "execution_count": 44,
     "metadata": {},
     "output_type": "execute_result"
    }
   ],
   "source": [
    "first_fraction, second_fraction = data_input()\n",
    "\n",
    "result = sum(first_fraction, second_fraction)\n",
    "\n",
    "Math(\n",
    "    rf'\\frac{{%d}}{{%d}}+\\frac{{%d}}{{%d}}=\\frac{{%d}}{{%d}}' % (\n",
    "        first_fraction['numerator'],first_fraction['denominator'],\n",
    "        second_fraction['numerator'],second_fraction['denominator'], \n",
    "        result['numerator'], result['denominator'])\n",
    "    )"
   ]
  }
 ],
 "metadata": {
  "interpreter": {
   "hash": "916dbcbb3f70747c44a77c7bcd40155683ae19c65e1c03b4aa3499c5328201f1"
  },
  "kernelspec": {
   "display_name": "Python 3.8.10 64-bit",
   "language": "python",
   "name": "python3"
  },
  "language_info": {
   "codemirror_mode": {
    "name": "ipython",
    "version": 3
   },
   "file_extension": ".py",
   "mimetype": "text/x-python",
   "name": "python",
   "nbconvert_exporter": "python",
   "pygments_lexer": "ipython3",
   "version": "3.8.10"
  },
  "orig_nbformat": 4
 },
 "nbformat": 4,
 "nbformat_minor": 2
}
