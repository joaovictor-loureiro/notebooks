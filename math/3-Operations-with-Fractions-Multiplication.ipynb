{
 "cells": [
  {
   "cell_type": "code",
   "execution_count": 1,
   "metadata": {},
   "outputs": [],
   "source": [
    "# Libraries\n",
    "from IPython.display import clear_output, display, Math"
   ]
  },
  {
   "cell_type": "code",
   "execution_count": 6,
   "metadata": {},
   "outputs": [],
   "source": [
    "# Functions\n",
    "def data_input():\n",
    "    try:\n",
    "        process = True\n",
    "        while process:\n",
    "            \n",
    "            first_fraction  = input('Enter the first fraction (numerator, denominator): ').split(',')\n",
    "            second_fraction = input('Enter the second fraction (numerator, denominator): ').split(',')            \n",
    "            \n",
    "            try:\n",
    "                first_fraction  = {'numerator':  int(first_fraction[0]), 'denominator':  int(first_fraction[1])}\n",
    "                second_fraction = {'numerator': int(second_fraction[0]), 'denominator': int(second_fraction[1])}\n",
    "                \n",
    "                if (first_fraction['denominator'] == 0) or (second_fraction['denominator'] == 0):\n",
    "                    print('Denominator cannot be zero. Please, try again.')\n",
    "                else:                \n",
    "                    process = False\n",
    "            except:\n",
    "                print('Invalid number format. Please, try again.')                    \n",
    "                                \n",
    "        return first_fraction, second_fraction\n",
    "    \n",
    "    except Exception as e:\n",
    "        return e, e\n",
    "    \n",
    "\n",
    "def mult(first_fraction: dict, second_fraction: dict):\n",
    "    try:\n",
    "        result = {}\n",
    "        result['numerator']   = first_fraction['numerator']   * second_fraction['numerator']                           \n",
    "        result['denominator'] = first_fraction['denominator'] * second_fraction['denominator']\n",
    "        \n",
    "        return result\n",
    "    \n",
    "    except Exception as e:\n",
    "        return e, e"
   ]
  },
  {
   "cell_type": "code",
   "execution_count": 7,
   "metadata": {},
   "outputs": [
    {
     "name": "stdout",
     "output_type": "stream",
     "text": [
      "Invalid number format. Please, try again.\n",
      "Denominator cannot be zero. Please, try again.\n"
     ]
    },
    {
     "data": {
      "text/latex": [
       "$\\displaystyle \\frac{15}{7}*\\frac{1}{4}=\\frac{15}{28}$"
      ],
      "text/plain": [
       "<IPython.core.display.Math object>"
      ]
     },
     "execution_count": 7,
     "metadata": {},
     "output_type": "execute_result"
    }
   ],
   "source": [
    "# Calling the functions and printing the result\n",
    "first_fraction, second_fraction = data_input()\n",
    "\n",
    "result = mult(first_fraction, second_fraction)\n",
    "\n",
    "Math(\n",
    "    rf'\\frac{{%d}}{{%d}}*\\frac{{%d}}{{%d}}=\\frac{{%d}}{{%d}}' % (\n",
    "        first_fraction['numerator'],first_fraction['denominator'],\n",
    "        second_fraction['numerator'],second_fraction['denominator'], \n",
    "        result['numerator'], result['denominator'])\n",
    "    )"
   ]
  }
 ],
 "metadata": {
  "interpreter": {
   "hash": "31f2aee4e71d21fbe5cf8b01ff0e069b9275f58929596ceb00d14d90e3e16cd6"
  },
  "kernelspec": {
   "display_name": "Python 3.8.10 64-bit",
   "language": "python",
   "name": "python3"
  },
  "language_info": {
   "codemirror_mode": {
    "name": "ipython",
    "version": 3
   },
   "file_extension": ".py",
   "mimetype": "text/x-python",
   "name": "python",
   "nbconvert_exporter": "python",
   "pygments_lexer": "ipython3",
   "version": "3.8.10"
  },
  "orig_nbformat": 4
 },
 "nbformat": 4,
 "nbformat_minor": 2
}
