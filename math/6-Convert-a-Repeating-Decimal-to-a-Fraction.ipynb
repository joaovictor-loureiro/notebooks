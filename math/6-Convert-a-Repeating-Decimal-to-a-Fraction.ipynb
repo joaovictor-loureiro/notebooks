{
 "cells": [
  {
   "cell_type": "code",
   "execution_count": 131,
   "metadata": {},
   "outputs": [],
   "source": [
    "# Libraries\n",
    "from IPython.display import clear_output, display, Math"
   ]
  },
  {
   "cell_type": "code",
   "execution_count": 138,
   "metadata": {},
   "outputs": [],
   "source": [
    "x = '1.3<2>'.split('.')\n",
    "\n",
    "right_part = x[1].split('<')[-1].replace('>', '')\n",
    "left_part  = x[0]\n",
    "intruder   = x[1].split('<')[0]"
   ]
  },
  {
   "cell_type": "code",
   "execution_count": 139,
   "metadata": {},
   "outputs": [],
   "source": [
    "denominator = '9'\n",
    "\n",
    "for i in range(1, len(right_part)):\n",
    "    denominator += '9'\n",
    "\n",
    "denominator = int(denominator)\n",
    "\n",
    "if int(left_part) != 0:\n",
    "    if intruder != '':\n",
    "        numerator = int(left_part + intruder + right_part) - int(left_part + intruder)\n",
    "        \n",
    "        denominator = '9'\n",
    "\n",
    "        for i in range(0, len(intruder)):\n",
    "            denominator += '0'\n",
    "\n",
    "        denominator = int(denominator)\n",
    "        left_part  = left_part + '.' + intruder\n",
    "    else:\n",
    "        numerator = int(left_part + right_part) - 1\n",
    "        left_part  = left_part + '.' \n",
    "else:\n",
    "    numerator   = int(right_part)\n",
    "    left_part  = left_part + '.'   \n",
    "\n",
    "right_part = int(right_part)"
   ]
  },
  {
   "cell_type": "code",
   "execution_count": 140,
   "metadata": {},
   "outputs": [
    {
     "data": {
      "text/latex": [
       "$\\displaystyle 1.3\\overline{2}=\\frac{119}{90}$"
      ],
      "text/plain": [
       "<IPython.core.display.Math object>"
      ]
     },
     "execution_count": 140,
     "metadata": {},
     "output_type": "execute_result"
    }
   ],
   "source": [
    "Math(rf'%s\\overline{{%d}}=\\frac{{%d}}{{%d}}' % (left_part, right_part, numerator, denominator))"
   ]
  }
 ],
 "metadata": {
  "interpreter": {
   "hash": "31f2aee4e71d21fbe5cf8b01ff0e069b9275f58929596ceb00d14d90e3e16cd6"
  },
  "kernelspec": {
   "display_name": "Python 3.8.10 64-bit",
   "language": "python",
   "name": "python3"
  },
  "language_info": {
   "codemirror_mode": {
    "name": "ipython",
    "version": 3
   },
   "file_extension": ".py",
   "mimetype": "text/x-python",
   "name": "python",
   "nbconvert_exporter": "python",
   "pygments_lexer": "ipython3",
   "version": "3.8.10"
  },
  "orig_nbformat": 4
 },
 "nbformat": 4,
 "nbformat_minor": 2
}
